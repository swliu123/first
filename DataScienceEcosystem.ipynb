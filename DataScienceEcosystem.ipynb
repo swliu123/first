{
  "nbformat": 4,
  "nbformat_minor": 0,
  "metadata": {
    "colab": {
      "provenance": []
    },
    "kernelspec": {
      "name": "python3",
      "display_name": "Python 3"
    },
    "language_info": {
      "name": "python"
    }
  },
  "cells": [
    {
      "cell_type": "markdown",
      "source": [
        "# Data Science Tools and Ecosystem"
      ],
      "metadata": {
        "id": "-hhtGkOXY3Ir"
      }
    },
    {
      "cell_type": "markdown",
      "source": [
        "In this notebook, Data Science Tools and Ecosystem are summarized."
      ],
      "metadata": {
        "id": "SHCXt6F5axG1"
      }
    },
    {
      "cell_type": "markdown",
      "source": [
        "\n",
        "Some of the popular languages that Data Scientists use are:\n",
        "*   Python  \n",
        "*   R\n",
        "*  Julia\n",
        "\n",
        "\n"
      ],
      "metadata": {
        "id": "edHZ0te2bYMC"
      }
    },
    {
      "cell_type": "markdown",
      "source": [
        "Some of the commonly used libraries used by Data Scientists include:\n",
        "*   Pandas\n",
        "*   Numpy\n",
        "*   Matplotlib\n",
        "\n"
      ],
      "metadata": {
        "id": "Kd_1R63fb3aV"
      }
    },
    {
      "cell_type": "markdown",
      "source": [
        "| Data Science Tools         |\n",
        "|----------------------------|\n",
        "| Jupyter Notebook            |\n",
        "| RStudio                     |\n",
        "| Apache Zeppelin             |"
      ],
      "metadata": {
        "id": "N58CgPZwcPSl"
      }
    },
    {
      "cell_type": "markdown",
      "source": [
        "Below are a few examples of evaluating arithmetic expressions in Python"
      ],
      "metadata": {
        "id": "wqDFzH2tc-uD"
      }
    },
    {
      "cell_type": "code",
      "source": [
        "(3*4)+5\n",
        "#This a simple arithmetic expression to mutiply then add integers."
      ],
      "metadata": {
        "colab": {
          "base_uri": "https://localhost:8080/"
        },
        "id": "wiVgxfbFdAiM",
        "outputId": "e322d545-8b85-4535-e117-4d2397d70222"
      },
      "execution_count": 12,
      "outputs": [
        {
          "output_type": "execute_result",
          "data": {
            "text/plain": [
              "17"
            ]
          },
          "metadata": {},
          "execution_count": 12
        }
      ]
    },
    {
      "cell_type": "code",
      "source": [
        "200/6\n",
        "#This will convert 200 minutes to hours by diving by 60"
      ],
      "metadata": {
        "colab": {
          "base_uri": "https://localhost:8080/"
        },
        "id": "PHDGOBZzdF84",
        "outputId": "7bced15d-3829-417b-df1a-7cbba16db664"
      },
      "execution_count": 13,
      "outputs": [
        {
          "output_type": "execute_result",
          "data": {
            "text/plain": [
              "33.333333333333336"
            ]
          },
          "metadata": {},
          "execution_count": 13
        }
      ]
    },
    {
      "cell_type": "markdown",
      "source": [
        "**Objectives:**\n",
        "\n",
        "- List popular languages for Data Science.\n",
        "- Discuss common data science tools.\n",
        "- Explore the ecosystem of open-source tools.\n",
        "- Demonstrate how to perform data analysis.\n",
        "- Review key concepts in data manipulation."
      ],
      "metadata": {
        "id": "a7zLSs9Wd7eN"
      }
    },
    {
      "cell_type": "markdown",
      "source": [
        "**Author\n",
        "Shih-Wei Liu"
      ],
      "metadata": {
        "id": "gJhHG0JWeKPI"
      }
    }
  ]
}